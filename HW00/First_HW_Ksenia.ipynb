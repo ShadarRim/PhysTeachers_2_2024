{
  "nbformat": 4,
  "nbformat_minor": 0,
  "metadata": {
    "colab": {
      "provenance": []
    },
    "kernelspec": {
      "name": "python3",
      "display_name": "Python 3"
    },
    "language_info": {
      "name": "python"
    }
  },
  "cells": [
    {
      "cell_type": "code",
      "execution_count": null,
      "metadata": {
        "colab": {
          "base_uri": "https://localhost:8080/",
          "height": 73
        },
        "id": "IBu_-9unGKRd",
        "outputId": "6bbc6e3c-39a6-412d-9cc6-e88308f38b92"
      },
      "outputs": [
        {
          "output_type": "display_data",
          "data": {
            "text/plain": [
              "<IPython.core.display.HTML object>"
            ],
            "text/html": [
              "\n",
              "     <input type=\"file\" id=\"files-8bc01dd5-f695-4b48-8462-7a66e0e7504d\" name=\"files[]\" multiple disabled\n",
              "        style=\"border:none\" />\n",
              "     <output id=\"result-8bc01dd5-f695-4b48-8462-7a66e0e7504d\">\n",
              "      Upload widget is only available when the cell has been executed in the\n",
              "      current browser session. Please rerun this cell to enable.\n",
              "      </output>\n",
              "      <script>// Copyright 2017 Google LLC\n",
              "//\n",
              "// Licensed under the Apache License, Version 2.0 (the \"License\");\n",
              "// you may not use this file except in compliance with the License.\n",
              "// You may obtain a copy of the License at\n",
              "//\n",
              "//      http://www.apache.org/licenses/LICENSE-2.0\n",
              "//\n",
              "// Unless required by applicable law or agreed to in writing, software\n",
              "// distributed under the License is distributed on an \"AS IS\" BASIS,\n",
              "// WITHOUT WARRANTIES OR CONDITIONS OF ANY KIND, either express or implied.\n",
              "// See the License for the specific language governing permissions and\n",
              "// limitations under the License.\n",
              "\n",
              "/**\n",
              " * @fileoverview Helpers for google.colab Python module.\n",
              " */\n",
              "(function(scope) {\n",
              "function span(text, styleAttributes = {}) {\n",
              "  const element = document.createElement('span');\n",
              "  element.textContent = text;\n",
              "  for (const key of Object.keys(styleAttributes)) {\n",
              "    element.style[key] = styleAttributes[key];\n",
              "  }\n",
              "  return element;\n",
              "}\n",
              "\n",
              "// Max number of bytes which will be uploaded at a time.\n",
              "const MAX_PAYLOAD_SIZE = 100 * 1024;\n",
              "\n",
              "function _uploadFiles(inputId, outputId) {\n",
              "  const steps = uploadFilesStep(inputId, outputId);\n",
              "  const outputElement = document.getElementById(outputId);\n",
              "  // Cache steps on the outputElement to make it available for the next call\n",
              "  // to uploadFilesContinue from Python.\n",
              "  outputElement.steps = steps;\n",
              "\n",
              "  return _uploadFilesContinue(outputId);\n",
              "}\n",
              "\n",
              "// This is roughly an async generator (not supported in the browser yet),\n",
              "// where there are multiple asynchronous steps and the Python side is going\n",
              "// to poll for completion of each step.\n",
              "// This uses a Promise to block the python side on completion of each step,\n",
              "// then passes the result of the previous step as the input to the next step.\n",
              "function _uploadFilesContinue(outputId) {\n",
              "  const outputElement = document.getElementById(outputId);\n",
              "  const steps = outputElement.steps;\n",
              "\n",
              "  const next = steps.next(outputElement.lastPromiseValue);\n",
              "  return Promise.resolve(next.value.promise).then((value) => {\n",
              "    // Cache the last promise value to make it available to the next\n",
              "    // step of the generator.\n",
              "    outputElement.lastPromiseValue = value;\n",
              "    return next.value.response;\n",
              "  });\n",
              "}\n",
              "\n",
              "/**\n",
              " * Generator function which is called between each async step of the upload\n",
              " * process.\n",
              " * @param {string} inputId Element ID of the input file picker element.\n",
              " * @param {string} outputId Element ID of the output display.\n",
              " * @return {!Iterable<!Object>} Iterable of next steps.\n",
              " */\n",
              "function* uploadFilesStep(inputId, outputId) {\n",
              "  const inputElement = document.getElementById(inputId);\n",
              "  inputElement.disabled = false;\n",
              "\n",
              "  const outputElement = document.getElementById(outputId);\n",
              "  outputElement.innerHTML = '';\n",
              "\n",
              "  const pickedPromise = new Promise((resolve) => {\n",
              "    inputElement.addEventListener('change', (e) => {\n",
              "      resolve(e.target.files);\n",
              "    });\n",
              "  });\n",
              "\n",
              "  const cancel = document.createElement('button');\n",
              "  inputElement.parentElement.appendChild(cancel);\n",
              "  cancel.textContent = 'Cancel upload';\n",
              "  const cancelPromise = new Promise((resolve) => {\n",
              "    cancel.onclick = () => {\n",
              "      resolve(null);\n",
              "    };\n",
              "  });\n",
              "\n",
              "  // Wait for the user to pick the files.\n",
              "  const files = yield {\n",
              "    promise: Promise.race([pickedPromise, cancelPromise]),\n",
              "    response: {\n",
              "      action: 'starting',\n",
              "    }\n",
              "  };\n",
              "\n",
              "  cancel.remove();\n",
              "\n",
              "  // Disable the input element since further picks are not allowed.\n",
              "  inputElement.disabled = true;\n",
              "\n",
              "  if (!files) {\n",
              "    return {\n",
              "      response: {\n",
              "        action: 'complete',\n",
              "      }\n",
              "    };\n",
              "  }\n",
              "\n",
              "  for (const file of files) {\n",
              "    const li = document.createElement('li');\n",
              "    li.append(span(file.name, {fontWeight: 'bold'}));\n",
              "    li.append(span(\n",
              "        `(${file.type || 'n/a'}) - ${file.size} bytes, ` +\n",
              "        `last modified: ${\n",
              "            file.lastModifiedDate ? file.lastModifiedDate.toLocaleDateString() :\n",
              "                                    'n/a'} - `));\n",
              "    const percent = span('0% done');\n",
              "    li.appendChild(percent);\n",
              "\n",
              "    outputElement.appendChild(li);\n",
              "\n",
              "    const fileDataPromise = new Promise((resolve) => {\n",
              "      const reader = new FileReader();\n",
              "      reader.onload = (e) => {\n",
              "        resolve(e.target.result);\n",
              "      };\n",
              "      reader.readAsArrayBuffer(file);\n",
              "    });\n",
              "    // Wait for the data to be ready.\n",
              "    let fileData = yield {\n",
              "      promise: fileDataPromise,\n",
              "      response: {\n",
              "        action: 'continue',\n",
              "      }\n",
              "    };\n",
              "\n",
              "    // Use a chunked sending to avoid message size limits. See b/62115660.\n",
              "    let position = 0;\n",
              "    do {\n",
              "      const length = Math.min(fileData.byteLength - position, MAX_PAYLOAD_SIZE);\n",
              "      const chunk = new Uint8Array(fileData, position, length);\n",
              "      position += length;\n",
              "\n",
              "      const base64 = btoa(String.fromCharCode.apply(null, chunk));\n",
              "      yield {\n",
              "        response: {\n",
              "          action: 'append',\n",
              "          file: file.name,\n",
              "          data: base64,\n",
              "        },\n",
              "      };\n",
              "\n",
              "      let percentDone = fileData.byteLength === 0 ?\n",
              "          100 :\n",
              "          Math.round((position / fileData.byteLength) * 100);\n",
              "      percent.textContent = `${percentDone}% done`;\n",
              "\n",
              "    } while (position < fileData.byteLength);\n",
              "  }\n",
              "\n",
              "  // All done.\n",
              "  yield {\n",
              "    response: {\n",
              "      action: 'complete',\n",
              "    }\n",
              "  };\n",
              "}\n",
              "\n",
              "scope.google = scope.google || {};\n",
              "scope.google.colab = scope.google.colab || {};\n",
              "scope.google.colab._files = {\n",
              "  _uploadFiles,\n",
              "  _uploadFilesContinue,\n",
              "};\n",
              "})(self);\n",
              "</script> "
            ]
          },
          "metadata": {}
        },
        {
          "output_type": "stream",
          "name": "stdout",
          "text": [
            "Saving bmi.csv to bmi.csv\n"
          ]
        }
      ],
      "source": [
        "\n",
        "from google.colab import files\n",
        "from matplotlib import pyplot as plt\n",
        "import numpy as np\n",
        "from scipy import stats\n",
        "import seaborn as sns\n",
        "from itertools import *\n",
        "\n",
        "\n",
        "uploaded = files.upload()\n",
        "\n"
      ]
    },
    {
      "cell_type": "code",
      "source": [
        "def sum_of_squares(samples: np.ndarray) -> float:\n",
        "    return ((samples - samples.mean()) ** 2).sum()"
      ],
      "metadata": {
        "id": "mgb9_ZTQ2n2D"
      },
      "execution_count": null,
      "outputs": []
    },
    {
      "cell_type": "code",
      "source": [
        "import pandas as pd\n",
        "import io\n",
        "\n",
        "df = pd.read_csv(io.BytesIO(uploaded['bmi.csv']))\n",
        "df.head(10)"
      ],
      "metadata": {
        "colab": {
          "base_uri": "https://localhost:8080/",
          "height": 363
        },
        "id": "cADDzJyJJYwD",
        "outputId": "1bd4de1d-2810-4635-f7c9-1cb4bdb1cf9f"
      },
      "execution_count": null,
      "outputs": [
        {
          "output_type": "execute_result",
          "data": {
            "text/plain": [
              "   Age  Height  Weight        Bmi       BmiClass\n",
              "0   61    1.85  109.30  31.935720  Obese Class 1\n",
              "1   60    1.71   79.02  27.023700     Overweight\n",
              "2   60    1.55   74.70  31.092612  Obese Class 1\n",
              "3   60    1.46   35.90  16.841809    Underweight\n",
              "4   60    1.58   97.10  38.896010  Obese Class 2\n",
              "5   59    1.71   79.32  27.126295     Overweight\n",
              "6   59    1.70   73.32  25.370242     Overweight\n",
              "7   59    1.72   85.32  28.839913     Overweight\n",
              "8   59    1.46   36.00  16.888722    Underweight\n",
              "9   59    1.83  104.70  31.263997  Obese Class 1"
            ],
            "text/html": [
              "\n",
              "  <div id=\"df-d1b7d54a-c271-4236-b3b1-2541c163bc25\" class=\"colab-df-container\">\n",
              "    <div>\n",
              "<style scoped>\n",
              "    .dataframe tbody tr th:only-of-type {\n",
              "        vertical-align: middle;\n",
              "    }\n",
              "\n",
              "    .dataframe tbody tr th {\n",
              "        vertical-align: top;\n",
              "    }\n",
              "\n",
              "    .dataframe thead th {\n",
              "        text-align: right;\n",
              "    }\n",
              "</style>\n",
              "<table border=\"1\" class=\"dataframe\">\n",
              "  <thead>\n",
              "    <tr style=\"text-align: right;\">\n",
              "      <th></th>\n",
              "      <th>Age</th>\n",
              "      <th>Height</th>\n",
              "      <th>Weight</th>\n",
              "      <th>Bmi</th>\n",
              "      <th>BmiClass</th>\n",
              "    </tr>\n",
              "  </thead>\n",
              "  <tbody>\n",
              "    <tr>\n",
              "      <th>0</th>\n",
              "      <td>61</td>\n",
              "      <td>1.85</td>\n",
              "      <td>109.30</td>\n",
              "      <td>31.935720</td>\n",
              "      <td>Obese Class 1</td>\n",
              "    </tr>\n",
              "    <tr>\n",
              "      <th>1</th>\n",
              "      <td>60</td>\n",
              "      <td>1.71</td>\n",
              "      <td>79.02</td>\n",
              "      <td>27.023700</td>\n",
              "      <td>Overweight</td>\n",
              "    </tr>\n",
              "    <tr>\n",
              "      <th>2</th>\n",
              "      <td>60</td>\n",
              "      <td>1.55</td>\n",
              "      <td>74.70</td>\n",
              "      <td>31.092612</td>\n",
              "      <td>Obese Class 1</td>\n",
              "    </tr>\n",
              "    <tr>\n",
              "      <th>3</th>\n",
              "      <td>60</td>\n",
              "      <td>1.46</td>\n",
              "      <td>35.90</td>\n",
              "      <td>16.841809</td>\n",
              "      <td>Underweight</td>\n",
              "    </tr>\n",
              "    <tr>\n",
              "      <th>4</th>\n",
              "      <td>60</td>\n",
              "      <td>1.58</td>\n",
              "      <td>97.10</td>\n",
              "      <td>38.896010</td>\n",
              "      <td>Obese Class 2</td>\n",
              "    </tr>\n",
              "    <tr>\n",
              "      <th>5</th>\n",
              "      <td>59</td>\n",
              "      <td>1.71</td>\n",
              "      <td>79.32</td>\n",
              "      <td>27.126295</td>\n",
              "      <td>Overweight</td>\n",
              "    </tr>\n",
              "    <tr>\n",
              "      <th>6</th>\n",
              "      <td>59</td>\n",
              "      <td>1.70</td>\n",
              "      <td>73.32</td>\n",
              "      <td>25.370242</td>\n",
              "      <td>Overweight</td>\n",
              "    </tr>\n",
              "    <tr>\n",
              "      <th>7</th>\n",
              "      <td>59</td>\n",
              "      <td>1.72</td>\n",
              "      <td>85.32</td>\n",
              "      <td>28.839913</td>\n",
              "      <td>Overweight</td>\n",
              "    </tr>\n",
              "    <tr>\n",
              "      <th>8</th>\n",
              "      <td>59</td>\n",
              "      <td>1.46</td>\n",
              "      <td>36.00</td>\n",
              "      <td>16.888722</td>\n",
              "      <td>Underweight</td>\n",
              "    </tr>\n",
              "    <tr>\n",
              "      <th>9</th>\n",
              "      <td>59</td>\n",
              "      <td>1.83</td>\n",
              "      <td>104.70</td>\n",
              "      <td>31.263997</td>\n",
              "      <td>Obese Class 1</td>\n",
              "    </tr>\n",
              "  </tbody>\n",
              "</table>\n",
              "</div>\n",
              "    <div class=\"colab-df-buttons\">\n",
              "\n",
              "  <div class=\"colab-df-container\">\n",
              "    <button class=\"colab-df-convert\" onclick=\"convertToInteractive('df-d1b7d54a-c271-4236-b3b1-2541c163bc25')\"\n",
              "            title=\"Convert this dataframe to an interactive table.\"\n",
              "            style=\"display:none;\">\n",
              "\n",
              "  <svg xmlns=\"http://www.w3.org/2000/svg\" height=\"24px\" viewBox=\"0 -960 960 960\">\n",
              "    <path d=\"M120-120v-720h720v720H120Zm60-500h600v-160H180v160Zm220 220h160v-160H400v160Zm0 220h160v-160H400v160ZM180-400h160v-160H180v160Zm440 0h160v-160H620v160ZM180-180h160v-160H180v160Zm440 0h160v-160H620v160Z\"/>\n",
              "  </svg>\n",
              "    </button>\n",
              "\n",
              "  <style>\n",
              "    .colab-df-container {\n",
              "      display:flex;\n",
              "      gap: 12px;\n",
              "    }\n",
              "\n",
              "    .colab-df-convert {\n",
              "      background-color: #E8F0FE;\n",
              "      border: none;\n",
              "      border-radius: 50%;\n",
              "      cursor: pointer;\n",
              "      display: none;\n",
              "      fill: #1967D2;\n",
              "      height: 32px;\n",
              "      padding: 0 0 0 0;\n",
              "      width: 32px;\n",
              "    }\n",
              "\n",
              "    .colab-df-convert:hover {\n",
              "      background-color: #E2EBFA;\n",
              "      box-shadow: 0px 1px 2px rgba(60, 64, 67, 0.3), 0px 1px 3px 1px rgba(60, 64, 67, 0.15);\n",
              "      fill: #174EA6;\n",
              "    }\n",
              "\n",
              "    .colab-df-buttons div {\n",
              "      margin-bottom: 4px;\n",
              "    }\n",
              "\n",
              "    [theme=dark] .colab-df-convert {\n",
              "      background-color: #3B4455;\n",
              "      fill: #D2E3FC;\n",
              "    }\n",
              "\n",
              "    [theme=dark] .colab-df-convert:hover {\n",
              "      background-color: #434B5C;\n",
              "      box-shadow: 0px 1px 3px 1px rgba(0, 0, 0, 0.15);\n",
              "      filter: drop-shadow(0px 1px 2px rgba(0, 0, 0, 0.3));\n",
              "      fill: #FFFFFF;\n",
              "    }\n",
              "  </style>\n",
              "\n",
              "    <script>\n",
              "      const buttonEl =\n",
              "        document.querySelector('#df-d1b7d54a-c271-4236-b3b1-2541c163bc25 button.colab-df-convert');\n",
              "      buttonEl.style.display =\n",
              "        google.colab.kernel.accessAllowed ? 'block' : 'none';\n",
              "\n",
              "      async function convertToInteractive(key) {\n",
              "        const element = document.querySelector('#df-d1b7d54a-c271-4236-b3b1-2541c163bc25');\n",
              "        const dataTable =\n",
              "          await google.colab.kernel.invokeFunction('convertToInteractive',\n",
              "                                                    [key], {});\n",
              "        if (!dataTable) return;\n",
              "\n",
              "        const docLinkHtml = 'Like what you see? Visit the ' +\n",
              "          '<a target=\"_blank\" href=https://colab.research.google.com/notebooks/data_table.ipynb>data table notebook</a>'\n",
              "          + ' to learn more about interactive tables.';\n",
              "        element.innerHTML = '';\n",
              "        dataTable['output_type'] = 'display_data';\n",
              "        await google.colab.output.renderOutput(dataTable, element);\n",
              "        const docLink = document.createElement('div');\n",
              "        docLink.innerHTML = docLinkHtml;\n",
              "        element.appendChild(docLink);\n",
              "      }\n",
              "    </script>\n",
              "  </div>\n",
              "\n",
              "\n",
              "<div id=\"df-b7c0bd75-cd61-413e-abcf-5f78ed63b4cb\">\n",
              "  <button class=\"colab-df-quickchart\" onclick=\"quickchart('df-b7c0bd75-cd61-413e-abcf-5f78ed63b4cb')\"\n",
              "            title=\"Suggest charts\"\n",
              "            style=\"display:none;\">\n",
              "\n",
              "<svg xmlns=\"http://www.w3.org/2000/svg\" height=\"24px\"viewBox=\"0 0 24 24\"\n",
              "     width=\"24px\">\n",
              "    <g>\n",
              "        <path d=\"M19 3H5c-1.1 0-2 .9-2 2v14c0 1.1.9 2 2 2h14c1.1 0 2-.9 2-2V5c0-1.1-.9-2-2-2zM9 17H7v-7h2v7zm4 0h-2V7h2v10zm4 0h-2v-4h2v4z\"/>\n",
              "    </g>\n",
              "</svg>\n",
              "  </button>\n",
              "\n",
              "<style>\n",
              "  .colab-df-quickchart {\n",
              "      --bg-color: #E8F0FE;\n",
              "      --fill-color: #1967D2;\n",
              "      --hover-bg-color: #E2EBFA;\n",
              "      --hover-fill-color: #174EA6;\n",
              "      --disabled-fill-color: #AAA;\n",
              "      --disabled-bg-color: #DDD;\n",
              "  }\n",
              "\n",
              "  [theme=dark] .colab-df-quickchart {\n",
              "      --bg-color: #3B4455;\n",
              "      --fill-color: #D2E3FC;\n",
              "      --hover-bg-color: #434B5C;\n",
              "      --hover-fill-color: #FFFFFF;\n",
              "      --disabled-bg-color: #3B4455;\n",
              "      --disabled-fill-color: #666;\n",
              "  }\n",
              "\n",
              "  .colab-df-quickchart {\n",
              "    background-color: var(--bg-color);\n",
              "    border: none;\n",
              "    border-radius: 50%;\n",
              "    cursor: pointer;\n",
              "    display: none;\n",
              "    fill: var(--fill-color);\n",
              "    height: 32px;\n",
              "    padding: 0;\n",
              "    width: 32px;\n",
              "  }\n",
              "\n",
              "  .colab-df-quickchart:hover {\n",
              "    background-color: var(--hover-bg-color);\n",
              "    box-shadow: 0 1px 2px rgba(60, 64, 67, 0.3), 0 1px 3px 1px rgba(60, 64, 67, 0.15);\n",
              "    fill: var(--button-hover-fill-color);\n",
              "  }\n",
              "\n",
              "  .colab-df-quickchart-complete:disabled,\n",
              "  .colab-df-quickchart-complete:disabled:hover {\n",
              "    background-color: var(--disabled-bg-color);\n",
              "    fill: var(--disabled-fill-color);\n",
              "    box-shadow: none;\n",
              "  }\n",
              "\n",
              "  .colab-df-spinner {\n",
              "    border: 2px solid var(--fill-color);\n",
              "    border-color: transparent;\n",
              "    border-bottom-color: var(--fill-color);\n",
              "    animation:\n",
              "      spin 1s steps(1) infinite;\n",
              "  }\n",
              "\n",
              "  @keyframes spin {\n",
              "    0% {\n",
              "      border-color: transparent;\n",
              "      border-bottom-color: var(--fill-color);\n",
              "      border-left-color: var(--fill-color);\n",
              "    }\n",
              "    20% {\n",
              "      border-color: transparent;\n",
              "      border-left-color: var(--fill-color);\n",
              "      border-top-color: var(--fill-color);\n",
              "    }\n",
              "    30% {\n",
              "      border-color: transparent;\n",
              "      border-left-color: var(--fill-color);\n",
              "      border-top-color: var(--fill-color);\n",
              "      border-right-color: var(--fill-color);\n",
              "    }\n",
              "    40% {\n",
              "      border-color: transparent;\n",
              "      border-right-color: var(--fill-color);\n",
              "      border-top-color: var(--fill-color);\n",
              "    }\n",
              "    60% {\n",
              "      border-color: transparent;\n",
              "      border-right-color: var(--fill-color);\n",
              "    }\n",
              "    80% {\n",
              "      border-color: transparent;\n",
              "      border-right-color: var(--fill-color);\n",
              "      border-bottom-color: var(--fill-color);\n",
              "    }\n",
              "    90% {\n",
              "      border-color: transparent;\n",
              "      border-bottom-color: var(--fill-color);\n",
              "    }\n",
              "  }\n",
              "</style>\n",
              "\n",
              "  <script>\n",
              "    async function quickchart(key) {\n",
              "      const quickchartButtonEl =\n",
              "        document.querySelector('#' + key + ' button');\n",
              "      quickchartButtonEl.disabled = true;  // To prevent multiple clicks.\n",
              "      quickchartButtonEl.classList.add('colab-df-spinner');\n",
              "      try {\n",
              "        const charts = await google.colab.kernel.invokeFunction(\n",
              "            'suggestCharts', [key], {});\n",
              "      } catch (error) {\n",
              "        console.error('Error during call to suggestCharts:', error);\n",
              "      }\n",
              "      quickchartButtonEl.classList.remove('colab-df-spinner');\n",
              "      quickchartButtonEl.classList.add('colab-df-quickchart-complete');\n",
              "    }\n",
              "    (() => {\n",
              "      let quickchartButtonEl =\n",
              "        document.querySelector('#df-b7c0bd75-cd61-413e-abcf-5f78ed63b4cb button');\n",
              "      quickchartButtonEl.style.display =\n",
              "        google.colab.kernel.accessAllowed ? 'block' : 'none';\n",
              "    })();\n",
              "  </script>\n",
              "</div>\n",
              "    </div>\n",
              "  </div>\n"
            ],
            "application/vnd.google.colaboratory.intrinsic+json": {
              "type": "dataframe",
              "variable_name": "df",
              "summary": "{\n  \"name\": \"df\",\n  \"rows\": 741,\n  \"fields\": [\n    {\n      \"column\": \"Age\",\n      \"properties\": {\n        \"dtype\": \"number\",\n        \"std\": 11,\n        \"min\": 15,\n        \"max\": 61,\n        \"num_unique_values\": 47,\n        \"samples\": [\n          34,\n          22,\n          35\n        ],\n        \"semantic_type\": \"\",\n        \"description\": \"\"\n      }\n    },\n    {\n      \"column\": \"Height\",\n      \"properties\": {\n        \"dtype\": \"number\",\n        \"std\": 0.08597444159292053,\n        \"min\": 1.46,\n        \"max\": 2.07,\n        \"num_unique_values\": 107,\n        \"samples\": [\n          1.746,\n          1.6,\n          1.58\n        ],\n        \"semantic_type\": \"\",\n        \"description\": \"\"\n      }\n    },\n    {\n      \"column\": \"Weight\",\n      \"properties\": {\n        \"dtype\": \"number\",\n        \"std\": 32.25454716091565,\n        \"min\": 25.9,\n        \"max\": 270.0,\n        \"num_unique_values\": 451,\n        \"samples\": [\n          73.99,\n          36.3,\n          61.7\n        ],\n        \"semantic_type\": \"\",\n        \"description\": \"\"\n      }\n    },\n    {\n      \"column\": \"Bmi\",\n      \"properties\": {\n        \"dtype\": \"number\",\n        \"std\": 9.22319077936824,\n        \"min\": 12.15049727903922,\n        \"max\": 66.30134997822616,\n        \"num_unique_values\": 672,\n        \"samples\": [\n          25.283937263385617,\n          15.70043409468944,\n          12.478889097391631\n        ],\n        \"semantic_type\": \"\",\n        \"description\": \"\"\n      }\n    },\n    {\n      \"column\": \"BmiClass\",\n      \"properties\": {\n        \"dtype\": \"category\",\n        \"num_unique_values\": 6,\n        \"samples\": [\n          \"Obese Class 1\",\n          \"Overweight\",\n          \"Normal Weight\"\n        ],\n        \"semantic_type\": \"\",\n        \"description\": \"\"\n      }\n    }\n  ]\n}"
            }
          },
          "metadata": {},
          "execution_count": 10
        }
      ]
    },
    {
      "cell_type": "markdown",
      "source": [
        "#Анализ"
      ],
      "metadata": {
        "id": "zSbcNrn6MTLc"
      }
    },
    {
      "cell_type": "markdown",
      "source": [
        "Числовые данные представлены столбцами:\n",
        "*   **Age** -  Это поле количественно определяет возраст каждого человека, выраженный в годах.\n",
        "*   **Height** - Столбец \"Рост\" содержит измерения роста испытуемых в метрах.\n",
        "*   **Weight** - В столбце вес испытуемых указан количественно в килограммах.\n",
        "\n",
        "*   **Bmi**(ИМТ) - важнейший числовой показатель, используемый для классификации людей на основе их веса по отношению к росту.\n",
        "\n",
        "Значения среднего и медианы у параметров роста,возрата и ИМТ практически близки. Интересно проверить их на нормальность.\n",
        "Значение же веса достаточно отличается. По-видимому это может быть связано с тем, что с юношеского возраста значение веса претерпевает сильные колебания из-за внешних обстоятельств.\n",
        "\n",
        "\n",
        "\n",
        "\n"
      ],
      "metadata": {
        "id": "m7XkEmzqMZBO"
      }
    },
    {
      "cell_type": "code",
      "source": [
        "df.describe()"
      ],
      "metadata": {
        "colab": {
          "base_uri": "https://localhost:8080/",
          "height": 300
        },
        "id": "aGSSniTKjWGi",
        "outputId": "83f77123-d9ba-436e-b891-4c1bc397f71a"
      },
      "execution_count": null,
      "outputs": [
        {
          "output_type": "execute_result",
          "data": {
            "text/plain": [
              "              Age      Height      Weight         Bmi\n",
              "count  741.000000  741.000000  741.000000  741.000000\n",
              "mean    31.618084    1.709427   78.412497   26.365427\n",
              "std     11.655466    0.085974   32.254547    9.223191\n",
              "min     15.000000    1.460000   25.900000   12.150497\n",
              "25%     22.000000    1.670000   63.000000   22.129740\n",
              "50%     29.000000    1.721000   72.900000   24.132412\n",
              "75%     40.000000    1.751000   83.300000   27.249306\n",
              "max     61.000000    2.070000  270.000000   66.301350"
            ],
            "text/html": [
              "\n",
              "  <div id=\"df-aa532d0f-1987-45be-9405-313ab85cf0a7\" class=\"colab-df-container\">\n",
              "    <div>\n",
              "<style scoped>\n",
              "    .dataframe tbody tr th:only-of-type {\n",
              "        vertical-align: middle;\n",
              "    }\n",
              "\n",
              "    .dataframe tbody tr th {\n",
              "        vertical-align: top;\n",
              "    }\n",
              "\n",
              "    .dataframe thead th {\n",
              "        text-align: right;\n",
              "    }\n",
              "</style>\n",
              "<table border=\"1\" class=\"dataframe\">\n",
              "  <thead>\n",
              "    <tr style=\"text-align: right;\">\n",
              "      <th></th>\n",
              "      <th>Age</th>\n",
              "      <th>Height</th>\n",
              "      <th>Weight</th>\n",
              "      <th>Bmi</th>\n",
              "    </tr>\n",
              "  </thead>\n",
              "  <tbody>\n",
              "    <tr>\n",
              "      <th>count</th>\n",
              "      <td>741.000000</td>\n",
              "      <td>741.000000</td>\n",
              "      <td>741.000000</td>\n",
              "      <td>741.000000</td>\n",
              "    </tr>\n",
              "    <tr>\n",
              "      <th>mean</th>\n",
              "      <td>31.618084</td>\n",
              "      <td>1.709427</td>\n",
              "      <td>78.412497</td>\n",
              "      <td>26.365427</td>\n",
              "    </tr>\n",
              "    <tr>\n",
              "      <th>std</th>\n",
              "      <td>11.655466</td>\n",
              "      <td>0.085974</td>\n",
              "      <td>32.254547</td>\n",
              "      <td>9.223191</td>\n",
              "    </tr>\n",
              "    <tr>\n",
              "      <th>min</th>\n",
              "      <td>15.000000</td>\n",
              "      <td>1.460000</td>\n",
              "      <td>25.900000</td>\n",
              "      <td>12.150497</td>\n",
              "    </tr>\n",
              "    <tr>\n",
              "      <th>25%</th>\n",
              "      <td>22.000000</td>\n",
              "      <td>1.670000</td>\n",
              "      <td>63.000000</td>\n",
              "      <td>22.129740</td>\n",
              "    </tr>\n",
              "    <tr>\n",
              "      <th>50%</th>\n",
              "      <td>29.000000</td>\n",
              "      <td>1.721000</td>\n",
              "      <td>72.900000</td>\n",
              "      <td>24.132412</td>\n",
              "    </tr>\n",
              "    <tr>\n",
              "      <th>75%</th>\n",
              "      <td>40.000000</td>\n",
              "      <td>1.751000</td>\n",
              "      <td>83.300000</td>\n",
              "      <td>27.249306</td>\n",
              "    </tr>\n",
              "    <tr>\n",
              "      <th>max</th>\n",
              "      <td>61.000000</td>\n",
              "      <td>2.070000</td>\n",
              "      <td>270.000000</td>\n",
              "      <td>66.301350</td>\n",
              "    </tr>\n",
              "  </tbody>\n",
              "</table>\n",
              "</div>\n",
              "    <div class=\"colab-df-buttons\">\n",
              "\n",
              "  <div class=\"colab-df-container\">\n",
              "    <button class=\"colab-df-convert\" onclick=\"convertToInteractive('df-aa532d0f-1987-45be-9405-313ab85cf0a7')\"\n",
              "            title=\"Convert this dataframe to an interactive table.\"\n",
              "            style=\"display:none;\">\n",
              "\n",
              "  <svg xmlns=\"http://www.w3.org/2000/svg\" height=\"24px\" viewBox=\"0 -960 960 960\">\n",
              "    <path d=\"M120-120v-720h720v720H120Zm60-500h600v-160H180v160Zm220 220h160v-160H400v160Zm0 220h160v-160H400v160ZM180-400h160v-160H180v160Zm440 0h160v-160H620v160ZM180-180h160v-160H180v160Zm440 0h160v-160H620v160Z\"/>\n",
              "  </svg>\n",
              "    </button>\n",
              "\n",
              "  <style>\n",
              "    .colab-df-container {\n",
              "      display:flex;\n",
              "      gap: 12px;\n",
              "    }\n",
              "\n",
              "    .colab-df-convert {\n",
              "      background-color: #E8F0FE;\n",
              "      border: none;\n",
              "      border-radius: 50%;\n",
              "      cursor: pointer;\n",
              "      display: none;\n",
              "      fill: #1967D2;\n",
              "      height: 32px;\n",
              "      padding: 0 0 0 0;\n",
              "      width: 32px;\n",
              "    }\n",
              "\n",
              "    .colab-df-convert:hover {\n",
              "      background-color: #E2EBFA;\n",
              "      box-shadow: 0px 1px 2px rgba(60, 64, 67, 0.3), 0px 1px 3px 1px rgba(60, 64, 67, 0.15);\n",
              "      fill: #174EA6;\n",
              "    }\n",
              "\n",
              "    .colab-df-buttons div {\n",
              "      margin-bottom: 4px;\n",
              "    }\n",
              "\n",
              "    [theme=dark] .colab-df-convert {\n",
              "      background-color: #3B4455;\n",
              "      fill: #D2E3FC;\n",
              "    }\n",
              "\n",
              "    [theme=dark] .colab-df-convert:hover {\n",
              "      background-color: #434B5C;\n",
              "      box-shadow: 0px 1px 3px 1px rgba(0, 0, 0, 0.15);\n",
              "      filter: drop-shadow(0px 1px 2px rgba(0, 0, 0, 0.3));\n",
              "      fill: #FFFFFF;\n",
              "    }\n",
              "  </style>\n",
              "\n",
              "    <script>\n",
              "      const buttonEl =\n",
              "        document.querySelector('#df-aa532d0f-1987-45be-9405-313ab85cf0a7 button.colab-df-convert');\n",
              "      buttonEl.style.display =\n",
              "        google.colab.kernel.accessAllowed ? 'block' : 'none';\n",
              "\n",
              "      async function convertToInteractive(key) {\n",
              "        const element = document.querySelector('#df-aa532d0f-1987-45be-9405-313ab85cf0a7');\n",
              "        const dataTable =\n",
              "          await google.colab.kernel.invokeFunction('convertToInteractive',\n",
              "                                                    [key], {});\n",
              "        if (!dataTable) return;\n",
              "\n",
              "        const docLinkHtml = 'Like what you see? Visit the ' +\n",
              "          '<a target=\"_blank\" href=https://colab.research.google.com/notebooks/data_table.ipynb>data table notebook</a>'\n",
              "          + ' to learn more about interactive tables.';\n",
              "        element.innerHTML = '';\n",
              "        dataTable['output_type'] = 'display_data';\n",
              "        await google.colab.output.renderOutput(dataTable, element);\n",
              "        const docLink = document.createElement('div');\n",
              "        docLink.innerHTML = docLinkHtml;\n",
              "        element.appendChild(docLink);\n",
              "      }\n",
              "    </script>\n",
              "  </div>\n",
              "\n",
              "\n",
              "<div id=\"df-cc99146c-076d-4ffb-9df4-62d2edc52061\">\n",
              "  <button class=\"colab-df-quickchart\" onclick=\"quickchart('df-cc99146c-076d-4ffb-9df4-62d2edc52061')\"\n",
              "            title=\"Suggest charts\"\n",
              "            style=\"display:none;\">\n",
              "\n",
              "<svg xmlns=\"http://www.w3.org/2000/svg\" height=\"24px\"viewBox=\"0 0 24 24\"\n",
              "     width=\"24px\">\n",
              "    <g>\n",
              "        <path d=\"M19 3H5c-1.1 0-2 .9-2 2v14c0 1.1.9 2 2 2h14c1.1 0 2-.9 2-2V5c0-1.1-.9-2-2-2zM9 17H7v-7h2v7zm4 0h-2V7h2v10zm4 0h-2v-4h2v4z\"/>\n",
              "    </g>\n",
              "</svg>\n",
              "  </button>\n",
              "\n",
              "<style>\n",
              "  .colab-df-quickchart {\n",
              "      --bg-color: #E8F0FE;\n",
              "      --fill-color: #1967D2;\n",
              "      --hover-bg-color: #E2EBFA;\n",
              "      --hover-fill-color: #174EA6;\n",
              "      --disabled-fill-color: #AAA;\n",
              "      --disabled-bg-color: #DDD;\n",
              "  }\n",
              "\n",
              "  [theme=dark] .colab-df-quickchart {\n",
              "      --bg-color: #3B4455;\n",
              "      --fill-color: #D2E3FC;\n",
              "      --hover-bg-color: #434B5C;\n",
              "      --hover-fill-color: #FFFFFF;\n",
              "      --disabled-bg-color: #3B4455;\n",
              "      --disabled-fill-color: #666;\n",
              "  }\n",
              "\n",
              "  .colab-df-quickchart {\n",
              "    background-color: var(--bg-color);\n",
              "    border: none;\n",
              "    border-radius: 50%;\n",
              "    cursor: pointer;\n",
              "    display: none;\n",
              "    fill: var(--fill-color);\n",
              "    height: 32px;\n",
              "    padding: 0;\n",
              "    width: 32px;\n",
              "  }\n",
              "\n",
              "  .colab-df-quickchart:hover {\n",
              "    background-color: var(--hover-bg-color);\n",
              "    box-shadow: 0 1px 2px rgba(60, 64, 67, 0.3), 0 1px 3px 1px rgba(60, 64, 67, 0.15);\n",
              "    fill: var(--button-hover-fill-color);\n",
              "  }\n",
              "\n",
              "  .colab-df-quickchart-complete:disabled,\n",
              "  .colab-df-quickchart-complete:disabled:hover {\n",
              "    background-color: var(--disabled-bg-color);\n",
              "    fill: var(--disabled-fill-color);\n",
              "    box-shadow: none;\n",
              "  }\n",
              "\n",
              "  .colab-df-spinner {\n",
              "    border: 2px solid var(--fill-color);\n",
              "    border-color: transparent;\n",
              "    border-bottom-color: var(--fill-color);\n",
              "    animation:\n",
              "      spin 1s steps(1) infinite;\n",
              "  }\n",
              "\n",
              "  @keyframes spin {\n",
              "    0% {\n",
              "      border-color: transparent;\n",
              "      border-bottom-color: var(--fill-color);\n",
              "      border-left-color: var(--fill-color);\n",
              "    }\n",
              "    20% {\n",
              "      border-color: transparent;\n",
              "      border-left-color: var(--fill-color);\n",
              "      border-top-color: var(--fill-color);\n",
              "    }\n",
              "    30% {\n",
              "      border-color: transparent;\n",
              "      border-left-color: var(--fill-color);\n",
              "      border-top-color: var(--fill-color);\n",
              "      border-right-color: var(--fill-color);\n",
              "    }\n",
              "    40% {\n",
              "      border-color: transparent;\n",
              "      border-right-color: var(--fill-color);\n",
              "      border-top-color: var(--fill-color);\n",
              "    }\n",
              "    60% {\n",
              "      border-color: transparent;\n",
              "      border-right-color: var(--fill-color);\n",
              "    }\n",
              "    80% {\n",
              "      border-color: transparent;\n",
              "      border-right-color: var(--fill-color);\n",
              "      border-bottom-color: var(--fill-color);\n",
              "    }\n",
              "    90% {\n",
              "      border-color: transparent;\n",
              "      border-bottom-color: var(--fill-color);\n",
              "    }\n",
              "  }\n",
              "</style>\n",
              "\n",
              "  <script>\n",
              "    async function quickchart(key) {\n",
              "      const quickchartButtonEl =\n",
              "        document.querySelector('#' + key + ' button');\n",
              "      quickchartButtonEl.disabled = true;  // To prevent multiple clicks.\n",
              "      quickchartButtonEl.classList.add('colab-df-spinner');\n",
              "      try {\n",
              "        const charts = await google.colab.kernel.invokeFunction(\n",
              "            'suggestCharts', [key], {});\n",
              "      } catch (error) {\n",
              "        console.error('Error during call to suggestCharts:', error);\n",
              "      }\n",
              "      quickchartButtonEl.classList.remove('colab-df-spinner');\n",
              "      quickchartButtonEl.classList.add('colab-df-quickchart-complete');\n",
              "    }\n",
              "    (() => {\n",
              "      let quickchartButtonEl =\n",
              "        document.querySelector('#df-cc99146c-076d-4ffb-9df4-62d2edc52061 button');\n",
              "      quickchartButtonEl.style.display =\n",
              "        google.colab.kernel.accessAllowed ? 'block' : 'none';\n",
              "    })();\n",
              "  </script>\n",
              "</div>\n",
              "    </div>\n",
              "  </div>\n"
            ],
            "application/vnd.google.colaboratory.intrinsic+json": {
              "type": "dataframe",
              "summary": "{\n  \"name\": \"df\",\n  \"rows\": 8,\n  \"fields\": [\n    {\n      \"column\": \"Age\",\n      \"properties\": {\n        \"dtype\": \"number\",\n        \"std\": 251.8424627491433,\n        \"min\": 11.655466046244221,\n        \"max\": 741.0,\n        \"num_unique_values\": 8,\n        \"samples\": [\n          31.61808367071525,\n          29.0,\n          741.0\n        ],\n        \"semantic_type\": \"\",\n        \"description\": \"\"\n      }\n    },\n    {\n      \"column\": \"Height\",\n      \"properties\": {\n        \"dtype\": \"number\",\n        \"std\": 261.4550646444294,\n        \"min\": 0.08597444159292053,\n        \"max\": 741.0,\n        \"num_unique_values\": 8,\n        \"samples\": [\n          1.7094272604588392,\n          1.721,\n          741.0\n        ],\n        \"semantic_type\": \"\",\n        \"description\": \"\"\n      }\n    },\n    {\n      \"column\": \"Weight\",\n      \"properties\": {\n        \"dtype\": \"number\",\n        \"std\": 242.7686925102316,\n        \"min\": 25.9,\n        \"max\": 741.0,\n        \"num_unique_values\": 8,\n        \"samples\": [\n          78.41249662618083,\n          72.9,\n          741.0\n        ],\n        \"semantic_type\": \"\",\n        \"description\": \"\"\n      }\n    },\n    {\n      \"column\": \"Bmi\",\n      \"properties\": {\n        \"dtype\": \"number\",\n        \"std\": 253.10733062844855,\n        \"min\": 9.22319077936824,\n        \"max\": 741.0,\n        \"num_unique_values\": 8,\n        \"samples\": [\n          26.365426760265162,\n          24.132412220348268,\n          741.0\n        ],\n        \"semantic_type\": \"\",\n        \"description\": \"\"\n      }\n    }\n  ]\n}"
            }
          },
          "metadata": {},
          "execution_count": 11
        }
      ]
    },
    {
      "cell_type": "markdown",
      "source": [
        "# Нормальность"
      ],
      "metadata": {
        "id": "5qWs5hY84d6b"
      }
    },
    {
      "cell_type": "markdown",
      "source": [
        "Как можно увидеть из графиков распредления значение роста действительно является нормально распределенным. Также можно сделать строгий вывод касаемо значений возраста - распределение точно не нормально."
      ],
      "metadata": {
        "id": "NTcQW7tg5kmV"
      }
    },
    {
      "cell_type": "code",
      "source": [
        "keys = ['Age', 'Height', 'Weight', 'Bmi']\n",
        "\n",
        "fig, axes = plt.subplots(ncols=len(keys))\n",
        "fig.set_size_inches(8 * len(keys), 4)\n",
        "axes = axes.flatten()\n",
        "\n",
        "for key, ax in zip(keys, axes):\n",
        "    ax.hist(df[key], density=True,bins =20)\n",
        "\n",
        "    loc = df[key].mean()\n",
        "    scale = df[key].std()\n",
        "\n",
        "    x_left, x_right = ax.get_xlim()\n",
        "    x = np.linspace(x_left, x_right, 1000)\n",
        "    y = stats.norm.pdf(x, loc=loc, scale=scale)\n",
        "\n",
        "    ax.plot(x, y, linestyle='dashed')\n",
        "    ax.set_title(key)"
      ],
      "metadata": {
        "colab": {
          "base_uri": "https://localhost:8080/",
          "height": 160
        },
        "id": "r2ftB6et5m45",
        "outputId": "4fd37926-6f1d-4f3f-9ecf-4eb635aff9e3"
      },
      "execution_count": null,
      "outputs": [
        {
          "output_type": "display_data",
          "data": {
            "text/plain": [
              "<Figure size 3200x400 with 4 Axes>"
            ],
            "image/png": "[encoded data removed]"
          },
          "metadata": {}
        }
      ]
    },
    {
      "cell_type": "code",
      "source": [
        "fig, axes = plt.subplots(ncols=len(keys))\n",
        "fig.set_size_inches(8 * len(keys), 4)\n",
        "axes = axes.flatten()\n",
        "\n",
        "for key, ax in zip(keys, axes):\n",
        "    samples = df[key]\n",
        "\n",
        "    loc = samples.mean()\n",
        "    scale = samples.std()\n",
        "\n",
        "    interval = np.linspace(0, 1, samples.shape[0])[1:-1]\n",
        "    x = stats.norm.ppf(interval, loc=loc, scale=scale)\n",
        "    y = np.quantile(samples, interval)\n",
        "\n",
        "    ax.scatter(x, y, s=5)\n",
        "    ax.plot(x, x, color='C1', linestyle='dashed')\n",
        "\n",
        "    ax.set_title(key)\n",
        "    ax.set_xlabel('теоретические квантили')\n",
        "    ax.set_ylabel('квантили выборки')"
      ],
      "metadata": {
        "colab": {
          "base_uri": "https://localhost:8080/",
          "height": 167
        },
        "id": "NU-q9t7_CLKG",
        "outputId": "ef709803-50cd-4b7c-8103-9672f67d4c11"
      },
      "execution_count": null,
      "outputs": [
        {
          "output_type": "display_data",
          "data": {
            "text/plain": [
              "<Figure size 3200x400 with 4 Axes>"
            ],
            "image/png": "[encoded data removed]"
          },
          "metadata": {}
        }
      ]
    },
    {
      "cell_type": "markdown",
      "source": [
        "При анализе Q-Q прямых данных из выборки можно говорить об относительно нормальном распределении значений возраста и роста. На значение ИМТ по всей видимости повлияло большое колебание веса."
      ],
      "metadata": {
        "id": "vzqvYiCudPti"
      }
    },
    {
      "cell_type": "code",
      "source": [
        "for key in keys:\n",
        "    print(key)\n",
        "\n",
        "    samples = df[key]\n",
        "\n",
        "    loc = samples.mean()\n",
        "    scale = samples.std()\n",
        "\n",
        "    for i in range(1, 4):\n",
        "        true_value = stats.norm.cdf(i) - stats.norm.cdf(-i)\n",
        "        sample_value = ((samples >= loc - i * scale) & (samples <= loc + i * scale)).sum() / samples.shape[0]\n",
        "\n",
        "        print(f'{i} sigma(s)')\n",
        "        print(f'\\ttheoretical:\\t{true_value}')\n",
        "        print(f'\\tsample:\\t\\t{sample_value}')\n",
        "\n",
        "    print()"
      ],
      "metadata": {
        "colab": {
          "base_uri": "https://localhost:8080/"
        },
        "id": "oQuOvQniCy3X",
        "outputId": "fa03dee2-c461-4b01-b06e-cc6b588476a1"
      },
      "execution_count": null,
      "outputs": [
        {
          "output_type": "stream",
          "name": "stdout",
          "text": [
            "Age\n",
            "1 sigma(s)\n",
            "\ttheoretical:\t0.6826894921370859\n",
            "\tsample:\t\t0.6410256410256411\n",
            "2 sigma(s)\n",
            "\ttheoretical:\t0.9544997361036416\n",
            "\tsample:\t\t0.9541160593792173\n",
            "3 sigma(s)\n",
            "\ttheoretical:\t0.9973002039367398\n",
            "\tsample:\t\t1.0\n",
            "\n",
            "Height\n",
            "1 sigma(s)\n",
            "\ttheoretical:\t0.6826894921370859\n",
            "\tsample:\t\t0.7557354925775979\n",
            "2 sigma(s)\n",
            "\ttheoretical:\t0.9544997361036416\n",
            "\tsample:\t\t0.9365721997300944\n",
            "3 sigma(s)\n",
            "\ttheoretical:\t0.9973002039367398\n",
            "\tsample:\t\t0.9932523616734144\n",
            "\n",
            "Weight\n",
            "1 sigma(s)\n",
            "\ttheoretical:\t0.6826894921370859\n",
            "\tsample:\t\t0.766531713900135\n",
            "2 sigma(s)\n",
            "\ttheoretical:\t0.9544997361036416\n",
            "\tsample:\t\t0.9473684210526315\n",
            "3 sigma(s)\n",
            "\ttheoretical:\t0.9973002039367398\n",
            "\tsample:\t\t0.9851551956815114\n",
            "\n",
            "Bmi\n",
            "1 sigma(s)\n",
            "\ttheoretical:\t0.6826894921370859\n",
            "\tsample:\t\t0.7368421052631579\n",
            "2 sigma(s)\n",
            "\ttheoretical:\t0.9544997361036416\n",
            "\tsample:\t\t0.9325236167341431\n",
            "3 sigma(s)\n",
            "\ttheoretical:\t0.9973002039367398\n",
            "\tsample:\t\t0.9743589743589743\n",
            "\n"
          ]
        }
      ]
    },
    {
      "cell_type": "markdown",
      "source": [
        "Вероятность попасть в интервал от  μ−σ  до  μ+σ  равна  0.68 ,\n",
        "В интервал от  μ−2σ  до  μ+2σ  —  0.95 ,\n",
        "В интервал от  μ−3σ  до  μ+3σ  —  0.997 .\n",
        "Если рассчётные цифры оказываются близки к теоретическим, то распределения можно признать нормальными.\n",
        "\n",
        "Тот факт, что распределения данных значений явлются нормальными или близкими к ним позволяет использовать другие методы для анализа взаимосвязей в данных."
      ],
      "metadata": {
        "id": "2d7VrvlrC9Ys"
      }
    },
    {
      "cell_type": "markdown",
      "source": [
        "#Поиск зависимостей"
      ],
      "metadata": {
        "id": "v5AJO8RdhgO4"
      }
    },
    {
      "cell_type": "markdown",
      "source": [
        "Проверим есть ли статистическая связь между числовыми параметрами базы данных."
      ],
      "metadata": {
        "id": "FxkxER35hlNE"
      }
    },
    {
      "cell_type": "code",
      "source": [
        "df[['Height', 'Weight', 'Age','Bmi']].corr()"
      ],
      "metadata": {
        "colab": {
          "base_uri": "https://localhost:8080/",
          "height": 174
        },
        "id": "ZL49HiJQqwEN",
        "outputId": "acfbef19-3abc-4703-c315-d7c6f7e074e0"
      },
      "execution_count": null,
      "outputs": [
        {
          "output_type": "execute_result",
          "data": {
            "text/plain": [
              "          Height    Weight       Age       Bmi\n",
              "Height  1.000000  0.607672  0.023128  0.433309\n",
              "Weight  0.607672  1.000000  0.109610  0.966921\n",
              "Age     0.023128  0.109610  1.000000  0.139157\n",
              "Bmi     0.433309  0.966921  0.139157  1.000000"
            ],
            "text/html": [
              "\n",
              "  <div id=\"df-b5761f78-de7d-49a9-8133-052abd54347e\" class=\"colab-df-container\">\n",
              "    <div>\n",
              "<style scoped>\n",
              "    .dataframe tbody tr th:only-of-type {\n",
              "        vertical-align: middle;\n",
              "    }\n",
              "\n",
              "    .dataframe tbody tr th {\n",
              "        vertical-align: top;\n",
              "    }\n",
              "\n",
              "    .dataframe thead th {\n",
              "        text-align: right;\n",
              "    }\n",
              "</style>\n",
              "<table border=\"1\" class=\"dataframe\">\n",
              "  <thead>\n",
              "    <tr style=\"text-align: right;\">\n",
              "      <th></th>\n",
              "      <th>Height</th>\n",
              "      <th>Weight</th>\n",
              "      <th>Age</th>\n",
              "      <th>Bmi</th>\n",
              "    </tr>\n",
              "  </thead>\n",
              "  <tbody>\n",
              "    <tr>\n",
              "      <th>Height</th>\n",
              "      <td>1.000000</td>\n",
              "      <td>0.607672</td>\n",
              "      <td>0.023128</td>\n",
              "      <td>0.433309</td>\n",
              "    </tr>\n",
              "    <tr>\n",
              "      <th>Weight</th>\n",
              "      <td>0.607672</td>\n",
              "      <td>1.000000</td>\n",
              "      <td>0.109610</td>\n",
              "      <td>0.966921</td>\n",
              "    </tr>\n",
              "    <tr>\n",
              "      <th>Age</th>\n",
              "      <td>0.023128</td>\n",
              "      <td>0.109610</td>\n",
              "      <td>1.000000</td>\n",
              "      <td>0.139157</td>\n",
              "    </tr>\n",
              "    <tr>\n",
              "      <th>Bmi</th>\n",
              "      <td>0.433309</td>\n",
              "      <td>0.966921</td>\n",
              "      <td>0.139157</td>\n",
              "      <td>1.000000</td>\n",
              "    </tr>\n",
              "  </tbody>\n",
              "</table>\n",
              "</div>\n",
              "    <div class=\"colab-df-buttons\">\n",
              "\n",
              "  <div class=\"colab-df-container\">\n",
              "    <button class=\"colab-df-convert\" onclick=\"convertToInteractive('df-b5761f78-de7d-49a9-8133-052abd54347e')\"\n",
              "            title=\"Convert this dataframe to an interactive table.\"\n",
              "            style=\"display:none;\">\n",
              "\n",
              "  <svg xmlns=\"http://www.w3.org/2000/svg\" height=\"24px\" viewBox=\"0 -960 960 960\">\n",
              "    <path d=\"M120-120v-720h720v720H120Zm60-500h600v-160H180v160Zm220 220h160v-160H400v160Zm0 220h160v-160H400v160ZM180-400h160v-160H180v160Zm440 0h160v-160H620v160ZM180-180h160v-160H180v160Zm440 0h160v-160H620v160Z\"/>\n",
              "  </svg>\n",
              "    </button>\n",
              "\n",
              "  <style>\n",
              "    .colab-df-container {\n",
              "      display:flex;\n",
              "      gap: 12px;\n",
              "    }\n",
              "\n",
              "    .colab-df-convert {\n",
              "      background-color: #E8F0FE;\n",
              "      border: none;\n",
              "      border-radius: 50%;\n",
              "      cursor: pointer;\n",
              "      display: none;\n",
              "      fill: #1967D2;\n",
              "      height: 32px;\n",
              "      padding: 0 0 0 0;\n",
              "      width: 32px;\n",
              "    }\n",
              "\n",
              "    .colab-df-convert:hover {\n",
              "      background-color: #E2EBFA;\n",
              "      box-shadow: 0px 1px 2px rgba(60, 64, 67, 0.3), 0px 1px 3px 1px rgba(60, 64, 67, 0.15);\n",
              "      fill: #174EA6;\n",
              "    }\n",
              "\n",
              "    .colab-df-buttons div {\n",
              "      margin-bottom: 4px;\n",
              "    }\n",
              "\n",
              "    [theme=dark] .colab-df-convert {\n",
              "      background-color: #3B4455;\n",
              "      fill: #D2E3FC;\n",
              "    }\n",
              "\n",
              "    [theme=dark] .colab-df-convert:hover {\n",
              "      background-color: #434B5C;\n",
              "      box-shadow: 0px 1px 3px 1px rgba(0, 0, 0, 0.15);\n",
              "      filter: drop-shadow(0px 1px 2px rgba(0, 0, 0, 0.3));\n",
              "      fill: #FFFFFF;\n",
              "    }\n",
              "  </style>\n",
              "\n",
              "    <script>\n",
              "      const buttonEl =\n",
              "        document.querySelector('#df-b5761f78-de7d-49a9-8133-052abd54347e button.colab-df-convert');\n",
              "      buttonEl.style.display =\n",
              "        google.colab.kernel.accessAllowed ? 'block' : 'none';\n",
              "\n",
              "      async function convertToInteractive(key) {\n",
              "        const element = document.querySelector('#df-b5761f78-de7d-49a9-8133-052abd54347e');\n",
              "        const dataTable =\n",
              "          await google.colab.kernel.invokeFunction('convertToInteractive',\n",
              "                                                    [key], {});\n",
              "        if (!dataTable) return;\n",
              "\n",
              "        const docLinkHtml = 'Like what you see? Visit the ' +\n",
              "          '<a target=\"_blank\" href=https://colab.research.google.com/notebooks/data_table.ipynb>data table notebook</a>'\n",
              "          + ' to learn more about interactive tables.';\n",
              "        element.innerHTML = '';\n",
              "        dataTable['output_type'] = 'display_data';\n",
              "        await google.colab.output.renderOutput(dataTable, element);\n",
              "        const docLink = document.createElement('div');\n",
              "        docLink.innerHTML = docLinkHtml;\n",
              "        element.appendChild(docLink);\n",
              "      }\n",
              "    </script>\n",
              "  </div>\n",
              "\n",
              "\n",
              "<div id=\"df-b0456098-b30f-4c8d-bed4-5c28dbfb4890\">\n",
              "  <button class=\"colab-df-quickchart\" onclick=\"quickchart('df-b0456098-b30f-4c8d-bed4-5c28dbfb4890')\"\n",
              "            title=\"Suggest charts\"\n",
              "            style=\"display:none;\">\n",
              "\n",
              "<svg xmlns=\"http://www.w3.org/2000/svg\" height=\"24px\"viewBox=\"0 0 24 24\"\n",
              "     width=\"24px\">\n",
              "    <g>\n",
              "        <path d=\"M19 3H5c-1.1 0-2 .9-2 2v14c0 1.1.9 2 2 2h14c1.1 0 2-.9 2-2V5c0-1.1-.9-2-2-2zM9 17H7v-7h2v7zm4 0h-2V7h2v10zm4 0h-2v-4h2v4z\"/>\n",
              "    </g>\n",
              "</svg>\n",
              "  </button>\n",
              "\n",
              "<style>\n",
              "  .colab-df-quickchart {\n",
              "      --bg-color: #E8F0FE;\n",
              "      --fill-color: #1967D2;\n",
              "      --hover-bg-color: #E2EBFA;\n",
              "      --hover-fill-color: #174EA6;\n",
              "      --disabled-fill-color: #AAA;\n",
              "      --disabled-bg-color: #DDD;\n",
              "  }\n",
              "\n",
              "  [theme=dark] .colab-df-quickchart {\n",
              "      --bg-color: #3B4455;\n",
              "      --fill-color: #D2E3FC;\n",
              "      --hover-bg-color: #434B5C;\n",
              "      --hover-fill-color: #FFFFFF;\n",
              "      --disabled-bg-color: #3B4455;\n",
              "      --disabled-fill-color: #666;\n",
              "  }\n",
              "\n",
              "  .colab-df-quickchart {\n",
              "    background-color: var(--bg-color);\n",
              "    border: none;\n",
              "    border-radius: 50%;\n",
              "    cursor: pointer;\n",
              "    display: none;\n",
              "    fill: var(--fill-color);\n",
              "    height: 32px;\n",
              "    padding: 0;\n",
              "    width: 32px;\n",
              "  }\n",
              "\n",
              "  .colab-df-quickchart:hover {\n",
              "    background-color: var(--hover-bg-color);\n",
              "    box-shadow: 0 1px 2px rgba(60, 64, 67, 0.3), 0 1px 3px 1px rgba(60, 64, 67, 0.15);\n",
              "    fill: var(--button-hover-fill-color);\n",
              "  }\n",
              "\n",
              "  .colab-df-quickchart-complete:disabled,\n",
              "  .colab-df-quickchart-complete:disabled:hover {\n",
              "    background-color: var(--disabled-bg-color);\n",
              "    fill: var(--disabled-fill-color);\n",
              "    box-shadow: none;\n",
              "  }\n",
              "\n",
              "  .colab-df-spinner {\n",
              "    border: 2px solid var(--fill-color);\n",
              "    border-color: transparent;\n",
              "    border-bottom-color: var(--fill-color);\n",
              "    animation:\n",
              "      spin 1s steps(1) infinite;\n",
              "  }\n",
              "\n",
              "  @keyframes spin {\n",
              "    0% {\n",
              "      border-color: transparent;\n",
              "      border-bottom-color: var(--fill-color);\n",
              "      border-left-color: var(--fill-color);\n",
              "    }\n",
              "    20% {\n",
              "      border-color: transparent;\n",
              "      border-left-color: var(--fill-color);\n",
              "      border-top-color: var(--fill-color);\n",
              "    }\n",
              "    30% {\n",
              "      border-color: transparent;\n",
              "      border-left-color: var(--fill-color);\n",
              "      border-top-color: var(--fill-color);\n",
              "      border-right-color: var(--fill-color);\n",
              "    }\n",
              "    40% {\n",
              "      border-color: transparent;\n",
              "      border-right-color: var(--fill-color);\n",
              "      border-top-color: var(--fill-color);\n",
              "    }\n",
              "    60% {\n",
              "      border-color: transparent;\n",
              "      border-right-color: var(--fill-color);\n",
              "    }\n",
              "    80% {\n",
              "      border-color: transparent;\n",
              "      border-right-color: var(--fill-color);\n",
              "      border-bottom-color: var(--fill-color);\n",
              "    }\n",
              "    90% {\n",
              "      border-color: transparent;\n",
              "      border-bottom-color: var(--fill-color);\n",
              "    }\n",
              "  }\n",
              "</style>\n",
              "\n",
              "  <script>\n",
              "    async function quickchart(key) {\n",
              "      const quickchartButtonEl =\n",
              "        document.querySelector('#' + key + ' button');\n",
              "      quickchartButtonEl.disabled = true;  // To prevent multiple clicks.\n",
              "      quickchartButtonEl.classList.add('colab-df-spinner');\n",
              "      try {\n",
              "        const charts = await google.colab.kernel.invokeFunction(\n",
              "            'suggestCharts', [key], {});\n",
              "      } catch (error) {\n",
              "        console.error('Error during call to suggestCharts:', error);\n",
              "      }\n",
              "      quickchartButtonEl.classList.remove('colab-df-spinner');\n",
              "      quickchartButtonEl.classList.add('colab-df-quickchart-complete');\n",
              "    }\n",
              "    (() => {\n",
              "      let quickchartButtonEl =\n",
              "        document.querySelector('#df-b0456098-b30f-4c8d-bed4-5c28dbfb4890 button');\n",
              "      quickchartButtonEl.style.display =\n",
              "        google.colab.kernel.accessAllowed ? 'block' : 'none';\n",
              "    })();\n",
              "  </script>\n",
              "</div>\n",
              "    </div>\n",
              "  </div>\n"
            ],
            "application/vnd.google.colaboratory.intrinsic+json": {
              "type": "dataframe",
              "summary": "{\n  \"name\": \"df[['Height', 'Weight', 'Age','Bmi']]\",\n  \"rows\": 4,\n  \"fields\": [\n    {\n      \"column\": \"Height\",\n      \"properties\": {\n        \"dtype\": \"number\",\n        \"std\": 0.40514186370404504,\n        \"min\": 0.02312844481701441,\n        \"max\": 1.0,\n        \"num_unique_values\": 4,\n        \"samples\": [\n          0.6076716078109783,\n          0.4333093803173003,\n          1.0\n        ],\n        \"semantic_type\": \"\",\n        \"description\": \"\"\n      }\n    },\n    {\n      \"column\": \"Weight\",\n      \"properties\": {\n        \"dtype\": \"number\",\n        \"std\": 0.4143182643512291,\n        \"min\": 0.10961029658863729,\n        \"max\": 1.0,\n        \"num_unique_values\": 4,\n        \"samples\": [\n          1.0,\n          0.9669205947935718,\n          0.6076716078109783\n        ],\n        \"semantic_type\": \"\",\n        \"description\": \"\"\n      }\n    },\n    {\n      \"column\": \"Age\",\n      \"properties\": {\n        \"dtype\": \"number\",\n        \"std\": 0.4573416483875363,\n        \"min\": 0.02312844481701441,\n        \"max\": 1.0,\n        \"num_unique_values\": 4,\n        \"samples\": [\n          0.10961029658863729,\n          0.13915747094567382,\n          0.02312844481701441\n        ],\n        \"semantic_type\": \"\",\n        \"description\": \"\"\n      }\n    },\n    {\n      \"column\": \"Bmi\",\n      \"properties\": {\n        \"dtype\": \"number\",\n        \"std\": 0.4202916079460057,\n        \"min\": 0.13915747094567382,\n        \"max\": 1.0,\n        \"num_unique_values\": 4,\n        \"samples\": [\n          0.9669205947935718,\n          1.0,\n          0.4333093803173003\n        ],\n        \"semantic_type\": \"\",\n        \"description\": \"\"\n      }\n    }\n  ]\n}"
            }
          },
          "metadata": {},
          "execution_count": 15
        }
      ]
    },
    {
      "cell_type": "markdown",
      "source": [
        "Из полученных данных можно предположить прямую зависимость между весом и ИМТ(чем выше вес, тем выше показатель ИМТ), ростом и весом(Чем выше рост человека, тем больше его вес). Остальные же величины мало коррелируют друг с другом и возможно имеют другой характер зависимости.\n"
      ],
      "metadata": {
        "id": "IF9F-HkGrka8"
      }
    },
    {
      "cell_type": "markdown",
      "source": [
        "# Статистический тест"
      ],
      "metadata": {
        "id": "k2PeV-YLtjAt"
      }
    },
    {
      "cell_type": "markdown",
      "source": [
        "Подтвердим линейную зависимость величин с помощью статистического теста и визуализации.\n",
        "Чтобы определить, являются ли результаты теста F статистически значимыми, можно сравнить статистику F с критическим значением t. Если статистика F больше критического значения t, то результаты теста статистически значимы, а значит зависимость есть."
      ],
      "metadata": {
        "id": "O6iUeNPFwrO0"
      }
    },
    {
      "cell_type": "code",
      "source": [
        "n = 741\n",
        "m = 1\n",
        "\n",
        "k1 = m\n",
        "k2 = n - m - 1\n",
        "alpha = 0.05\n",
        "\n",
        "t = stats.f.ppf(1 - alpha, k1, k2)\n",
        "t"
      ],
      "metadata": {
        "colab": {
          "base_uri": "https://localhost:8080/"
        },
        "id": "DELgEgeEtn2T",
        "outputId": "cbd880d0-06d1-408b-82d4-ef77126fa8a2"
      },
      "execution_count": null,
      "outputs": [
        {
          "output_type": "execute_result",
          "data": {
            "text/plain": [
              "3.854072842480432"
            ]
          },
          "metadata": {},
          "execution_count": 16
        }
      ]
    },
    {
      "cell_type": "code",
      "source": [
        "ones = np.ones((741,1))\n",
        "x_pot = np.hstack((ones, df['Weight'].values.reshape(741,1)))\n",
        "XTX = x_pot.T.dot(x_pot)\n",
        "XTX_inv = np.linalg.inv(XTX)\n",
        "\n",
        "b = XTX_inv.dot(x_pot.T).dot(df['Bmi'])\n",
        "z = x_pot.dot(b)\n",
        "e = df['Bmi'] - z\n",
        "\n",
        "R = 1 - sum_of_squares(e) / sum_of_squares(np.array(df['Bmi']))\n",
        "print(R)\n",
        "\n",
        "F = (R / k1) / ((1 - R) / k2)\n",
        "F"
      ],
      "metadata": {
        "colab": {
          "base_uri": "https://localhost:8080/"
        },
        "id": "rPxy7blT1PNI",
        "outputId": "dc7296b5-d703-4f5f-e443-4833c35169eb"
      },
      "execution_count": null,
      "outputs": [
        {
          "output_type": "stream",
          "name": "stdout",
          "text": [
            "0.9349354366359535\n"
          ]
        },
        {
          "output_type": "execute_result",
          "data": {
            "text/plain": [
              "10618.949116866857"
            ]
          },
          "metadata": {},
          "execution_count": 29
        }
      ]
    },
    {
      "cell_type": "markdown",
      "source": [
        "Т.к. F > t, то связь есть. Визуализируем это."
      ],
      "metadata": {
        "id": "yEBEfCKt2vRw"
      }
    },
    {
      "cell_type": "code",
      "source": [
        "b1 = np.cov(df['Weight'], df['Bmi'], ddof=1)[0, 1] / np.var(df['Weight'], ddof=1)\n",
        "b0 = df['Bmi'].mean() - b1 * df['Weight'].mean()\n",
        "\n",
        "plt.scatter(df['Weight'], df['Bmi'])\n",
        "x = np.linspace(20, 250, 600)\n",
        "y = b1*x + b0\n",
        "plt.plot(x, y, color = 'r')\n",
        "plt.show()"
      ],
      "metadata": {
        "colab": {
          "base_uri": "https://localhost:8080/",
          "height": 430
        },
        "id": "wS0ResVy3AeW",
        "outputId": "be9fb1e7-3e0a-4ab2-8553-0b327d2b34d1"
      },
      "execution_count": null,
      "outputs": [
        {
          "output_type": "display_data",
          "data": {
            "text/plain": [
              "<Figure size 640x480 with 1 Axes>"
            ],
            "image/png": "[encoded data removed]"
          },
          "metadata": {}
        }
      ]
    },
    {
      "cell_type": "markdown",
      "source": [
        "Покажем наличие связи между ростом и весом аналогичным образом."
      ],
      "metadata": {
        "id": "ZaH9hnky6grd"
      }
    },
    {
      "cell_type": "code",
      "source": [
        "ones = np.ones((741,1))\n",
        "x_pot = np.hstack((ones, df['Height'].values.reshape(741,1)))\n",
        "XTX = x_pot.T.dot(x_pot)\n",
        "XTX_inv = np.linalg.inv(XTX)\n",
        "\n",
        "b = XTX_inv.dot(x_pot.T).dot(df['Weight'])\n",
        "z = x_pot.dot(b)\n",
        "e = df['Weight'] - z\n",
        "\n",
        "R = 1 - sum_of_squares(e) / sum_of_squares(np.array(df['Weight']))\n",
        "\n",
        "\n",
        "F = (R / k1) / ((1 - R) / k2)\n",
        "F"
      ],
      "metadata": {
        "colab": {
          "base_uri": "https://localhost:8080/"
        },
        "id": "VlmKpPZJ6t3Y",
        "outputId": "3a68e96f-9e4e-49e8-d2a1-dc27b3b170ca"
      },
      "execution_count": null,
      "outputs": [
        {
          "output_type": "execute_result",
          "data": {
            "text/plain": [
              "432.64854603196875"
            ]
          },
          "metadata": {},
          "execution_count": 19
        }
      ]
    },
    {
      "cell_type": "code",
      "source": [
        "b1 = np.cov(df['Height'], df['Weight'], ddof=1)[0, 1] / np.var(df['Height'], ddof=1)\n",
        "b0 = df['Weight'].mean() - b1 * df['Height'].mean()\n",
        "\n",
        "plt.scatter(df['Height'], df['Weight'])\n",
        "x = np.linspace(1.3, 2.4, 100)\n",
        "y = b1*x + b0\n",
        "plt.plot(x, y, color = 'r')\n",
        "plt.show()"
      ],
      "metadata": {
        "colab": {
          "base_uri": "https://localhost:8080/",
          "height": 430
        },
        "id": "y_p7gj9l7Jlt",
        "outputId": "cd120e0b-6bee-42b6-975a-dd281763cf28"
      },
      "execution_count": null,
      "outputs": [
        {
          "output_type": "display_data",
          "data": {
            "text/plain": [
              "<Figure size 640x480 with 1 Axes>"
            ],
            "image/png": "[encoded data removed]"
          },
          "metadata": {}
        }
      ]
    },
    {
      "cell_type": "markdown",
      "source": [
        "#Влияние возраста на проблемы со здоровьем"
      ],
      "metadata": {
        "id": "x_e7U3fJDF4U"
      }
    },
    {
      "cell_type": "code",
      "source": [
        "def var_analise(df, df1, df2, f):\n",
        "  all1 = df1.shape[0]\n",
        "  all2 = df2.shape[0]\n",
        "  res1_mean = df1[f].mean()\n",
        "  res2_mean = df2[f].mean()\n",
        "  res_mean = df[f].mean()\n",
        "  SS_b = all1 * (res1_mean - res_mean) ** 2 + all2 * (res2_mean - res_mean) ** 2\n",
        "  SS_w = ((df1[f] - res1_mean) ** 2).sum() + ((df2[f]- res2_mean) ** 2).sum()\n",
        "\n",
        "  k = 2\n",
        "  n = all1 + all2\n",
        "  k1 = k - 1\n",
        "  k2 = n - k\n",
        "  sigma2_b = SS_b / k1\n",
        "  sigma2_w = SS_w / k2\n",
        "  sigma2_b, sigma2_w\n",
        "\n",
        "  F = sigma2_b / sigma2_w\n",
        "\n",
        "  alpha = 0.05\n",
        "\n",
        "  t = stats.f.ppf(1 - alpha, k1, k2)\n",
        "\n",
        "  return F>t"
      ],
      "metadata": {
        "id": "hON5rCLDDGUY"
      },
      "execution_count": null,
      "outputs": []
    },
    {
      "cell_type": "code",
      "source": [
        "df1 = df[df['BmiClass'] == 'Overweight']\n",
        "df2 = df[df['BmiClass'] == 'Underweight']\n",
        "\n",
        "var_analise(df, df1, df2, 'Age')"
      ],
      "metadata": {
        "colab": {
          "base_uri": "https://localhost:8080/"
        },
        "id": "Ef_NgSv9DIG-",
        "outputId": "542a5665-2e35-4a2b-bb7c-f6432ec62bb4"
      },
      "execution_count": null,
      "outputs": [
        {
          "output_type": "execute_result",
          "data": {
            "text/plain": [
              "True"
            ]
          },
          "metadata": {},
          "execution_count": 22
        }
      ]
    },
    {
      "cell_type": "code",
      "source": [
        "res1_mean = df1['Age'].mean()\n",
        "res2_mean = df2['Age'].mean()\n",
        "\n",
        "print(f'Age of heavy: {res1_mean}, Age of skinny {res2_mean}')"
      ],
      "metadata": {
        "colab": {
          "base_uri": "https://localhost:8080/"
        },
        "id": "yXieBYbMFjAH",
        "outputId": "5c910f3d-c01f-4b48-f695-68be0d0cce59"
      },
      "execution_count": null,
      "outputs": [
        {
          "output_type": "stream",
          "name": "stdout",
          "text": [
            "Age of heavy: 39.18072289156626, Age of skinny 29.833333333333332\n"
          ]
        }
      ]
    },
    {
      "cell_type": "markdown",
      "source": [
        "Анализ показывает, что проблема ожирения характернее для зрелых людей. Оно и понятно, ведь чем моложе человек, тем больше он обеспокоен вопросами своего внешнего вида."
      ],
      "metadata": {
        "id": "sT98VY1JHFvx"
      }
    },
    {
      "cell_type": "markdown",
      "source": [
        "# Влияние роста на проблемы с ожирением"
      ],
      "metadata": {
        "id": "ugRRIyfIJTqv"
      }
    },
    {
      "cell_type": "code",
      "source": [
        "df1 = df[df['BmiClass'] == 'Underweight']\n",
        "df2 = df[df['BmiClass'] == 'Overweight']\n",
        "\n",
        "var_analise(df, df1, df2, 'Height')"
      ],
      "metadata": {
        "colab": {
          "base_uri": "https://localhost:8080/"
        },
        "id": "Hl4yI9ehJXi4",
        "outputId": "fd0bcdf1-daa0-43e2-ba9c-398b29790234"
      },
      "execution_count": null,
      "outputs": [
        {
          "output_type": "execute_result",
          "data": {
            "text/plain": [
              "True"
            ]
          },
          "metadata": {},
          "execution_count": 24
        }
      ]
    },
    {
      "cell_type": "code",
      "source": [
        "res1_mean = df1['Height'].mean()\n",
        "res2_mean = df2['Height'].mean()\n",
        "\n",
        "print(f'Height of skinny: {res1_mean}, Height of heavy {res2_mean}')"
      ],
      "metadata": {
        "colab": {
          "base_uri": "https://localhost:8080/"
        },
        "id": "vUIiE9NAJcye",
        "outputId": "4f0f87a3-dfb8-429f-91b9-7adfe0c01a23"
      },
      "execution_count": null,
      "outputs": [
        {
          "output_type": "stream",
          "name": "stdout",
          "text": [
            "Height of skinny: 1.5636458333333334, Height of heavy 1.7413771084337353\n"
          ]
        }
      ]
    },
    {
      "cell_type": "markdown",
      "source": [
        "Проблема ожирения наиболее характерна для людей с нормальным/высоким ростом, тогда как \"недоедают\" в среднем чаще низкие люди."
      ],
      "metadata": {
        "id": "4Xjz0etXJ0pP"
      }
    },
    {
      "cell_type": "code",
      "source": [
        "df1 = df[df['BmiClass'] == 'Obese Class 1']\n",
        "df2 = df[df['BmiClass'] == 'Obese Class 2']\n",
        "\n",
        "var_analise(df, df1, df2, 'Height')"
      ],
      "metadata": {
        "colab": {
          "base_uri": "https://localhost:8080/"
        },
        "id": "SywguHWSJ5dY",
        "outputId": "f661776d-5af0-4d42-ce91-d67793958253"
      },
      "execution_count": null,
      "outputs": [
        {
          "output_type": "execute_result",
          "data": {
            "text/plain": [
              "False"
            ]
          },
          "metadata": {},
          "execution_count": 26
        }
      ]
    },
    {
      "cell_type": "code",
      "source": [
        "res1_mean = df1['Height'].mean()\n",
        "res2_mean = df2['Height'].mean()\n",
        "\n",
        "print(f'Height of huge: {res1_mean}, Height of super huge {res2_mean}')"
      ],
      "metadata": {
        "colab": {
          "base_uri": "https://localhost:8080/"
        },
        "id": "UkyaBGisJ5p6",
        "outputId": "3e4a1a4e-a251-4c51-fd79-b3b3dcc9f614"
      },
      "execution_count": null,
      "outputs": [
        {
          "output_type": "stream",
          "name": "stdout",
          "text": [
            "Height of huge: 1.723, Height of super huge 1.719818181818182\n"
          ]
        }
      ]
    },
    {
      "cell_type": "markdown",
      "source": [
        "В свою очередь рост никак не влияет на усугубление проблемы с ожирением."
      ],
      "metadata": {
        "id": "FwBfZymz9dl-"
      }
    },
    {
      "cell_type": "markdown",
      "source": [
        "#Выводы"
      ],
      "metadata": {
        "id": "WEPLJXqT9n1E"
      }
    },
    {
      "cell_type": "markdown",
      "source": [
        "Таким образом, ИМТ является важным показателем для отслеживания своего здоровья.Зная свой рост и вес можно с легкостью понять свою принадлежность к определенному классу и скорректировать при необходимости стиль жизни.\n",
        "Следует помнить, что с возрастом наши метаболитические процессы замедляются и согнать лишний вес становится не так-то просто."
      ],
      "metadata": {
        "id": "2Tz4UOCf9rdo"
      }
    }
  ]
}